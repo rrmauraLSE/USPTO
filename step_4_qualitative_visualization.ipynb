{
 "cells": [
  {
   "cell_type": "code",
   "execution_count": 2,
   "metadata": {},
   "outputs": [],
   "source": [
    "#TODO: \n",
    "# [\\n07\\nG11C019/08\\nA01H005/00\\n]\n",
    "# [\\n07\\nA41D001/06\\n]\n",
    "\n",
    "# WHAT DOES THE 07 STAND FOR? \n",
    "# is this universal? do all patents have this structure? over all years?\n",
    "\n",
    "\n",
    "import pandas as pd\n",
    "import numpy as np\n",
    "import matplotlib.pyplot as plt\n",
    "import sklearn as sk\n",
    "from sklearn import preprocessing\n",
    "from sklearn.model_selection import train_test_split\n",
    "\n",
    "df = pd.read_parquet(\"data/df_with_embeddings.parquet\")\n"
   ]
  },
  {
   "cell_type": "code",
   "execution_count": 3,
   "metadata": {},
   "outputs": [
    {
     "data": {
      "text/html": [
       "<div>\n",
       "<style scoped>\n",
       "    .dataframe tbody tr th:only-of-type {\n",
       "        vertical-align: middle;\n",
       "    }\n",
       "\n",
       "    .dataframe tbody tr th {\n",
       "        vertical-align: top;\n",
       "    }\n",
       "\n",
       "    .dataframe thead th {\n",
       "        text-align: right;\n",
       "    }\n",
       "</style>\n",
       "<table border=\"1\" class=\"dataframe\">\n",
       "  <thead>\n",
       "    <tr style=\"text-align: right;\">\n",
       "      <th></th>\n",
       "      <th>title</th>\n",
       "      <th>publication_number</th>\n",
       "      <th>publication_date</th>\n",
       "      <th>application_type</th>\n",
       "      <th>ipc_classifications</th>\n",
       "      <th>national_classifications</th>\n",
       "      <th>inventors</th>\n",
       "      <th>abstract</th>\n",
       "      <th>description</th>\n",
       "      <th>claims</th>\n",
       "      <th>abstract_characters</th>\n",
       "      <th>abstract_tokens</th>\n",
       "      <th>claims_characters</th>\n",
       "      <th>claims_tokens</th>\n",
       "      <th>description_characters</th>\n",
       "      <th>description_tokens</th>\n",
       "      <th>title_characters</th>\n",
       "      <th>title_tokens</th>\n",
       "      <th>abstract_embeddings</th>\n",
       "    </tr>\n",
       "  </thead>\n",
       "  <tbody>\n",
       "    <tr>\n",
       "      <th>0</th>\n",
       "      <td>Anthurium andreanum plant named 'Anthbondem'</td>\n",
       "      <td>20050005336</td>\n",
       "      <td>20050106</td>\n",
       "      <td>utility</td>\n",
       "      <td>[\\n07\\nG11C019/08\\nA01H005/00\\n]</td>\n",
       "      <td>[\\nUS\\nPLT365000\\n]</td>\n",
       "      <td>[{'first_name': 'Jan', 'last_name': 'Dijk'}]</td>\n",
       "      <td>\\nA new and distinct cultivar of Anthurium and...</td>\n",
       "      <td>\\n\\nLATIN NAME OF THE GENUS AND SPECIES OF THE...</td>\n",
       "      <td>1\\n. A new and distinct\\nAnthurium andreanum\\n...</td>\n",
       "      <td>643</td>\n",
       "      <td>129</td>\n",
       "      <td>105</td>\n",
       "      <td>28</td>\n",
       "      <td>9258</td>\n",
       "      <td>2306</td>\n",
       "      <td>44</td>\n",
       "      <td>13</td>\n",
       "      <td>[[-0.024430248886346817, 0.0164019837975502, 0...</td>\n",
       "    </tr>\n",
       "    <tr>\n",
       "      <th>1</th>\n",
       "      <td>Novelty jeans</td>\n",
       "      <td>20050000001</td>\n",
       "      <td>20050106</td>\n",
       "      <td>utility</td>\n",
       "      <td>[\\n07\\nA41D001/06\\n]</td>\n",
       "      <td>[\\nUS\\n002227000\\n]</td>\n",
       "      <td>[{'first_name': 'Tina', 'last_name': 'Goldkind'}]</td>\n",
       "      <td>\\nNovelty play jeans for children which includ...</td>\n",
       "      <td>\\n\\nBACKGROUND OF THE INVENTION \\n The inventi...</td>\n",
       "      <td>1\\n. A novelty jeans formed of suitable fabric...</td>\n",
       "      <td>507</td>\n",
       "      <td>104</td>\n",
       "      <td>6428</td>\n",
       "      <td>1398</td>\n",
       "      <td>23051</td>\n",
       "      <td>5122</td>\n",
       "      <td>13</td>\n",
       "      <td>4</td>\n",
       "      <td>[[-0.01965159736573696, -0.0008666732464917004...</td>\n",
       "    </tr>\n",
       "  </tbody>\n",
       "</table>\n",
       "</div>"
      ],
      "text/plain": [
       "                                          title publication_number  \\\n",
       "0  Anthurium andreanum plant named 'Anthbondem'        20050005336   \n",
       "1                                 Novelty jeans        20050000001   \n",
       "\n",
       "  publication_date application_type               ipc_classifications  \\\n",
       "0         20050106          utility  [\\n07\\nG11C019/08\\nA01H005/00\\n]   \n",
       "1         20050106          utility              [\\n07\\nA41D001/06\\n]   \n",
       "\n",
       "  national_classifications                                          inventors  \\\n",
       "0      [\\nUS\\nPLT365000\\n]       [{'first_name': 'Jan', 'last_name': 'Dijk'}]   \n",
       "1      [\\nUS\\n002227000\\n]  [{'first_name': 'Tina', 'last_name': 'Goldkind'}]   \n",
       "\n",
       "                                            abstract  \\\n",
       "0  \\nA new and distinct cultivar of Anthurium and...   \n",
       "1  \\nNovelty play jeans for children which includ...   \n",
       "\n",
       "                                         description  \\\n",
       "0  \\n\\nLATIN NAME OF THE GENUS AND SPECIES OF THE...   \n",
       "1  \\n\\nBACKGROUND OF THE INVENTION \\n The inventi...   \n",
       "\n",
       "                                              claims  abstract_characters  \\\n",
       "0  1\\n. A new and distinct\\nAnthurium andreanum\\n...                  643   \n",
       "1  1\\n. A novelty jeans formed of suitable fabric...                  507   \n",
       "\n",
       "   abstract_tokens  claims_characters  claims_tokens  description_characters  \\\n",
       "0              129                105             28                    9258   \n",
       "1              104               6428           1398                   23051   \n",
       "\n",
       "   description_tokens  title_characters  title_tokens  \\\n",
       "0                2306                44            13   \n",
       "1                5122                13             4   \n",
       "\n",
       "                                 abstract_embeddings  \n",
       "0  [[-0.024430248886346817, 0.0164019837975502, 0...  \n",
       "1  [[-0.01965159736573696, -0.0008666732464917004...  "
      ]
     },
     "execution_count": 3,
     "metadata": {},
     "output_type": "execute_result"
    }
   ],
   "source": [
    "df.head(2)"
   ]
  },
  {
   "cell_type": "code",
   "execution_count": null,
   "metadata": {},
   "outputs": [],
   "source": [
    "\n",
    "\n"
   ]
  },
  {
   "cell_type": "code",
   "execution_count": null,
   "metadata": {},
   "outputs": [],
   "source": []
  },
  {
   "cell_type": "code",
   "execution_count": 4,
   "metadata": {},
   "outputs": [],
   "source": [
    "# print the embeddings and put them by colours deppending on the industry\n",
    "# the industry column is ipc_classifications\n",
    "\n",
    "\n",
    "# ['\\n07 what is the 07?/ \n",
    "# CAN we have multiple IPC codes? \n",
    "# \\nG11C019/08\n",
    "# \\nA01H005/00\\n'\n",
    "\n",
    "\"\"\"\n",
    "https://www.wipo.int/edocs/pubdocs/en/wipo-guide-ipc-2023-en-guide-to-the-international-patent-classification-2023.pdf\n",
    "PC Code Structure: An IPC code is structured as follows:\n",
    "\n",
    "Section: The first letter represents the section of technology \n",
    "(e.g., A for Human Necessities).\n",
    "\n",
    "Class: The two digits following the section letter represent the class \n",
    "(e.g., 01 for Agriculture; Fishing...).\n",
    "\n",
    "Subclass: The letter after the class number represents the subclass \n",
    "(e.g., H for Plant breeding).\n",
    "\n",
    "Group: The first one to three digits after the subclass letter indicate group\n",
    " (e.g., 005 for specific types of plants or methods for their breeding).\n",
    "\n",
    "Subgroup: Finally, the number after the slash (/) represents the subgroup, \n",
    "providing further details\n",
    " (e.g., 00 represents a specific aspect of the plant breeding method).\n",
    " \"\"\"\n",
    "# create a dictionary to map the industry to a color\n",
    "\n",
    "# create a function that given the icp code returns the industry\n",
    "def split_ipc_code(ipc_list_codes):\n",
    "    # get the first ipc code\n",
    "    ipc_code = ipc_list_codes[0].split('\\n')[2]\n",
    "    \n",
    "    # first letter\n",
    "    ipc_section = ipc_code[0]\n",
    "    # ipc_section + 2 digits\n",
    "    ipc_class = ipc_code[0:3]\n",
    "    # ipc_class + 1 letter\n",
    "    ipc_subclass = ipc_code[0:4]\n",
    "    # split using /\n",
    "    ipc_group = ipc_code.split('/')[0]\n",
    "    ipc_subgroup = ipc_code\n",
    "\n",
    "    return ipc_section, ipc_class, ipc_subclass, ipc_group, ipc_subgroup\n",
    "\n",
    "\n",
    "df[\"section\"] = df['ipc_classifications'].apply(lambda x: split_ipc_code(x)[0])\n"
   ]
  },
  {
   "cell_type": "code",
   "execution_count": 5,
   "metadata": {},
   "outputs": [
    {
     "data": {
      "text/plain": [
       "'\\nA HUMAN NECESSITIES\\nB PERFORMING OPERATIONS; TRANSPORTING\\nC CHEMISTRY; METALLURGY\\nD TEXTILES; PAPER\\nE FIXED CONSTRUCTIONS\\nF MECHANICAL ENGINEERING; LIGHTING; HEATING; WEAPONS;\\nBLASTING\\nG PHYSICS\\nH ELECTRICITY\\n'"
      ]
     },
     "execution_count": 5,
     "metadata": {},
     "output_type": "execute_result"
    }
   ],
   "source": [
    "# print all section values \n",
    "df[\"section\"].value_counts()\n",
    "\n",
    "#  IPC eighth edition consisting of eight sections, 129 classes, 639 subclasses, 7,314 main groups, and 61,397 subgroups\n",
    "\n",
    "\"\"\"\n",
    "A HUMAN NECESSITIES\n",
    "B PERFORMING OPERATIONS; TRANSPORTING\n",
    "C CHEMISTRY; METALLURGY\n",
    "D TEXTILES; PAPER\n",
    "E FIXED CONSTRUCTIONS\n",
    "F MECHANICAL ENGINEERING; LIGHTING; HEATING; WEAPONS;\n",
    "BLASTING\n",
    "G PHYSICS\n",
    "H ELECTRICITY\n",
    "\"\"\""
   ]
  },
  {
   "cell_type": "code",
   "execution_count": 6,
   "metadata": {},
   "outputs": [
    {
     "data": {
      "image/png": "[encoded data removed]",
      "text/plain": [
       "<Figure size 640x480 with 1 Axes>"
      ]
     },
     "metadata": {},
     "output_type": "display_data"
    }
   ],
   "source": [
    "# t-SNE\n",
    "# we will take the first vector embedding from the abstracts and use t-SNE to visualize the data \n",
    "\n",
    "from sklearn.manifold import TSNE\n",
    "import matplotlib.pyplot as plt\n",
    "\n",
    "# take the first vector embedding from the abstracts\n",
    "X = np.array([np.array(x[0]) for x in df['abstract_embeddings']])\n",
    "# create t-SNE object\n",
    "# tsne = TSNE()\n",
    "# TODO: play with hyperparameters\n",
    "tsne = TSNE(n_components=2, perplexity=30, early_exaggeration=12, learning_rate=200)\n",
    "\n",
    "# perform t-SNE on the embedding vectors\n",
    "X_tsne = tsne.fit_transform(X)\n",
    "\n",
    "# create a color map for different sections\n",
    "section_colors = {\n",
    "    'A': 'red',\n",
    "    'B': 'blue',\n",
    "    'C': 'green',\n",
    "    'D': 'yellow',\n",
    "    'E': 'orange',\n",
    "    'F': 'purple',\n",
    "    'G': 'pink',\n",
    "    'H': 'brown'\n",
    "}\n",
    "\n",
    "# hyperparameter tuning\n",
    "\n",
    "\n",
    "# plot the t-SNE visualization with different colors for sections\n",
    "for section in section_colors:\n",
    "    plt.scatter(X_tsne[df['section'] == section, 0], X_tsne[df['section'] == section, 1], c=section_colors[section], label=section)\n",
    "\n",
    "plt.xlabel('Dimension 1')\n",
    "plt.ylabel('Dimension 2')\n",
    "plt.title('t-SNE Visualization with Different Colors for Sections')\n",
    "plt.legend()\n",
    "plt.show()\n"
   ]
  },
  {
   "cell_type": "code",
   "execution_count": 7,
   "metadata": {},
   "outputs": [],
   "source": [
    "# # the same with umap\n",
    "# import umap.umap_ as umap\n",
    "# reducer = umap.UMAP()\n",
    "# embedding = reducer.fit_transform(X)\n",
    "# iterable_of_colors = [section_colors[section] for section in df['section']]\n",
    "# plt.scatter(embedding[:, 0], embedding[:, 1], c=iterable_of_colors, cmap='Spectral', s=5)\n",
    "# plt.gca().set_aspect('equal', 'datalim')\n",
    "# plt.title('UMAP projection of the dataset', fontsize=24)\n",
    "# plt.show()\n"
   ]
  },
  {
   "cell_type": "code",
   "execution_count": 8,
   "metadata": {},
   "outputs": [
    {
     "data": {
      "text/plain": [
       "'\\nFor gender name coding, I relied on the gender distributions of first names provided by the U.S. Social Security\\nAdministration. To avoid detecting differential behavior to non-US inventors, I include only\\npatent applications submitted by US inventors.\\n\\nThe USPTO Patents View data, which includes detailed information on both granted patents and patent applications\\n'"
      ]
     },
     "execution_count": 8,
     "metadata": {},
     "output_type": "execute_result"
    }
   ],
   "source": [
    "# are there female authors? T (use database of US names)\n",
    "# did the patents get accepted? Y ??\n",
    "\n",
    "# Are Patent Examiners Gender Neutral?\n",
    "\"\"\"\n",
    "For gender name coding, I relied on the gender distributions of first names provided by the U.S. Social Security\n",
    "Administration. To avoid detecting differential behavior to non-US inventors, I include only\n",
    "patent applications submitted by US inventors.\n",
    "\n",
    "The USPTO Patents View data, which includes detailed information on both granted patents and patent applications\n",
    "\"\"\""
   ]
  },
  {
   "cell_type": "code",
   "execution_count": 28,
   "metadata": {},
   "outputs": [
    {
     "name": "stderr",
     "output_type": "stream",
     "text": [
      "C:\\Users\\Roberto\\AppData\\Local\\Temp\\ipykernel_10440\\2557347593.py:6: DtypeWarning: Columns (0,2,4) have mixed types. Specify dtype option on import or set low_memory=False.\n",
      "  application_granted_df = pd.read_csv(\"C:/Users/Roberto/Downloads/g_application.tsv/g_application.tsv\", sep='\\t')\n"
     ]
    }
   ],
   "source": [
    "# open \"C:\\Users\\Roberto\\Downloads\\g_application.tsv\\g_application.tsv\"\n",
    "\n",
    "import pandas as pd\n",
    "import numpy as np\n",
    "\n",
    "application_granted_df = pd.read_csv(\"C:/Users/Roberto/Downloads/g_application.tsv/g_application.tsv\", sep='\\t')\n"
   ]
  },
  {
   "cell_type": "code",
   "execution_count": 29,
   "metadata": {},
   "outputs": [
    {
     "data": {
      "text/html": [
       "<div>\n",
       "<style scoped>\n",
       "    .dataframe tbody tr th:only-of-type {\n",
       "        vertical-align: middle;\n",
       "    }\n",
       "\n",
       "    .dataframe tbody tr th {\n",
       "        vertical-align: top;\n",
       "    }\n",
       "\n",
       "    .dataframe thead th {\n",
       "        text-align: right;\n",
       "    }\n",
       "</style>\n",
       "<table border=\"1\" class=\"dataframe\">\n",
       "  <thead>\n",
       "    <tr style=\"text-align: right;\">\n",
       "      <th></th>\n",
       "      <th>application_id</th>\n",
       "      <th>patent_id</th>\n",
       "      <th>patent_application_type</th>\n",
       "      <th>filing_date</th>\n",
       "      <th>series_code</th>\n",
       "      <th>rule_47_flag</th>\n",
       "    </tr>\n",
       "  </thead>\n",
       "  <tbody>\n",
       "    <tr>\n",
       "      <th>8699308</th>\n",
       "      <td>6848010</td>\n",
       "      <td>4732727</td>\n",
       "      <td>6</td>\n",
       "      <td>9186-04-03</td>\n",
       "      <td>06</td>\n",
       "      <td>0.0</td>\n",
       "    </tr>\n",
       "    <tr>\n",
       "      <th>8699307</th>\n",
       "      <td>6474610</td>\n",
       "      <td>4474874</td>\n",
       "      <td>6</td>\n",
       "      <td>9183-03-11</td>\n",
       "      <td>06</td>\n",
       "      <td>0.0</td>\n",
       "    </tr>\n",
       "    <tr>\n",
       "      <th>8699306</th>\n",
       "      <td>5967990</td>\n",
       "      <td>4255928</td>\n",
       "      <td>5</td>\n",
       "      <td>9178-12-11</td>\n",
       "      <td>05</td>\n",
       "      <td>0.0</td>\n",
       "    </tr>\n",
       "    <tr>\n",
       "      <th>8699305</th>\n",
       "      <td>5786216</td>\n",
       "      <td>4135654</td>\n",
       "      <td>5</td>\n",
       "      <td>9177-04-11</td>\n",
       "      <td>05</td>\n",
       "      <td>0.0</td>\n",
       "    </tr>\n",
       "    <tr>\n",
       "      <th>8699304</th>\n",
       "      <td>5691622</td>\n",
       "      <td>4041523</td>\n",
       "      <td>5</td>\n",
       "      <td>9176-06-01</td>\n",
       "      <td>05</td>\n",
       "      <td>0.0</td>\n",
       "    </tr>\n",
       "    <tr>\n",
       "      <th>...</th>\n",
       "      <td>...</td>\n",
       "      <td>...</td>\n",
       "      <td>...</td>\n",
       "      <td>...</td>\n",
       "      <td>...</td>\n",
       "      <td>...</td>\n",
       "    </tr>\n",
       "    <tr>\n",
       "      <th>3</th>\n",
       "      <td>05518570</td>\n",
       "      <td>3936670</td>\n",
       "      <td>05</td>\n",
       "      <td>1074-10-29</td>\n",
       "      <td>05</td>\n",
       "      <td>0.0</td>\n",
       "    </tr>\n",
       "    <tr>\n",
       "      <th>2</th>\n",
       "      <td>05518254</td>\n",
       "      <td>3941467</td>\n",
       "      <td>05</td>\n",
       "      <td>1074-10-29</td>\n",
       "      <td>05</td>\n",
       "      <td>0.0</td>\n",
       "    </tr>\n",
       "    <tr>\n",
       "      <th>1</th>\n",
       "      <td>05508062</td>\n",
       "      <td>3933359</td>\n",
       "      <td>05</td>\n",
       "      <td>1074-09-23</td>\n",
       "      <td>05</td>\n",
       "      <td>0.0</td>\n",
       "    </tr>\n",
       "    <tr>\n",
       "      <th>0</th>\n",
       "      <td>05497504</td>\n",
       "      <td>3963197</td>\n",
       "      <td>05</td>\n",
       "      <td>1074-08-14</td>\n",
       "      <td>05</td>\n",
       "      <td>0.0</td>\n",
       "    </tr>\n",
       "    <tr>\n",
       "      <th>8699309</th>\n",
       "      <td>5629532</td>\n",
       "      <td>4078170</td>\n",
       "      <td>5</td>\n",
       "      <td>0975-11-06</td>\n",
       "      <td>05</td>\n",
       "      <td>0.0</td>\n",
       "    </tr>\n",
       "  </tbody>\n",
       "</table>\n",
       "<p>8699310 rows × 6 columns</p>\n",
       "</div>"
      ],
      "text/plain": [
       "        application_id patent_id patent_application_type filing_date  \\\n",
       "8699308        6848010   4732727                       6  9186-04-03   \n",
       "8699307        6474610   4474874                       6  9183-03-11   \n",
       "8699306        5967990   4255928                       5  9178-12-11   \n",
       "8699305        5786216   4135654                       5  9177-04-11   \n",
       "8699304        5691622   4041523                       5  9176-06-01   \n",
       "...                ...       ...                     ...         ...   \n",
       "3             05518570   3936670                      05  1074-10-29   \n",
       "2             05518254   3941467                      05  1074-10-29   \n",
       "1             05508062   3933359                      05  1074-09-23   \n",
       "0             05497504   3963197                      05  1074-08-14   \n",
       "8699309        5629532   4078170                       5  0975-11-06   \n",
       "\n",
       "        series_code  rule_47_flag  \n",
       "8699308          06           0.0  \n",
       "8699307          06           0.0  \n",
       "8699306          05           0.0  \n",
       "8699305          05           0.0  \n",
       "8699304          05           0.0  \n",
       "...             ...           ...  \n",
       "3                05           0.0  \n",
       "2                05           0.0  \n",
       "1                05           0.0  \n",
       "0                05           0.0  \n",
       "8699309          05           0.0  \n",
       "\n",
       "[8699310 rows x 6 columns]"
      ]
     },
     "execution_count": 29,
     "metadata": {},
     "output_type": "execute_result"
    }
   ],
   "source": [
    "application_granted_df.tail()\n",
    "\n",
    "# this data is pure rubish! the date is obviously wrong!!\n",
    "# what is this date? \n",
    "\n",
    "# sort by filing_date\n",
    "# application_granted_df.sort_values(by='filing_date', ascending=False)\n",
    "\n",
    "# format 1986-04-03\n",
    "\n",
    "# constrain the data to 2005 - 2020\n",
    "# application_granted_df = application_granted_df[(application_granted_df['filing_date'] >= '2005-01-01') & (application_granted_df['filing_date'] <= '2020-12-31')]"
   ]
  },
  {
   "cell_type": "code",
   "execution_count": 44,
   "metadata": {},
   "outputs": [
    {
     "data": {
      "text/html": [
       "<div>\n",
       "<style scoped>\n",
       "    .dataframe tbody tr th:only-of-type {\n",
       "        vertical-align: middle;\n",
       "    }\n",
       "\n",
       "    .dataframe tbody tr th {\n",
       "        vertical-align: top;\n",
       "    }\n",
       "\n",
       "    .dataframe thead th {\n",
       "        text-align: right;\n",
       "    }\n",
       "</style>\n",
       "<table border=\"1\" class=\"dataframe\">\n",
       "  <thead>\n",
       "    <tr style=\"text-align: right;\">\n",
       "      <th></th>\n",
       "      <th>application_id</th>\n",
       "      <th>patent_id</th>\n",
       "      <th>patent_application_type</th>\n",
       "      <th>filing_date</th>\n",
       "      <th>series_code</th>\n",
       "      <th>rule_47_flag</th>\n",
       "    </tr>\n",
       "  </thead>\n",
       "  <tbody>\n",
       "    <tr>\n",
       "      <th>3161775</th>\n",
       "      <td>10098856</td>\n",
       "      <td>6769139</td>\n",
       "      <td>10</td>\n",
       "      <td>2002-03-14</td>\n",
       "      <td>10</td>\n",
       "      <td>0.0</td>\n",
       "    </tr>\n",
       "  </tbody>\n",
       "</table>\n",
       "</div>"
      ],
      "text/plain": [
       "        application_id patent_id patent_application_type filing_date  \\\n",
       "3161775       10098856   6769139                      10  2002-03-14   \n",
       "\n",
       "        series_code  rule_47_flag  \n",
       "3161775          10           0.0  "
      ]
     },
     "execution_count": 44,
     "metadata": {},
     "output_type": "execute_result"
    }
   ],
   "source": [
    "# check if patent_id is only numeric values. \n",
    "# application_granted_df['patent_id'].str.isnumeric().all()\n",
    "\n",
    "# give counterexamples\n",
    "# application_granted_df[~application_granted_df['patent_id'].str.isnumeric()]\n",
    "\n",
    "# you might have letters or numbers in the patent_id depending on the series code!\n",
    "\n",
    "# check if 2494 is part of the patent_id\n",
    "application_granted_df[application_granted_df['patent_id'].str.contains('6769139')] # found you! Novelty jeans"
   ]
  },
  {
   "cell_type": "code",
   "execution_count": null,
   "metadata": {},
   "outputs": [],
   "source": []
  },
  {
   "cell_type": "code",
   "execution_count": 24,
   "metadata": {},
   "outputs": [
    {
     "data": {
      "text/plain": [
       "application_id                        10574160\n",
       "patent_id                              7626211\n",
       "patent_application_type                     10\n",
       "filing_date                2005-09-07 00:00:00\n",
       "series_code                                 10\n",
       "rule_47_flag                               0.0\n",
       "Name: 3791964, dtype: object"
      ]
     },
     "execution_count": 24,
     "metadata": {},
     "output_type": "execute_result"
    }
   ],
   "source": [
    "application_granted_df.iloc[1000]\n",
    "\n",
    "# it is enough "
   ]
  },
  {
   "cell_type": "code",
   "execution_count": 12,
   "metadata": {},
   "outputs": [
    {
     "data": {
      "text/plain": [
       "filing_date\n",
       "2017.0    359275\n",
       "2018.0    356352\n",
       "2016.0    346297\n",
       "2019.0    345528\n",
       "2015.0    335050\n",
       "           ...  \n",
       "1925.0         1\n",
       "1929.0         1\n",
       "1933.0         1\n",
       "1939.0         1\n",
       "1682.0         1\n",
       "Name: count, Length: 111, dtype: int64"
      ]
     },
     "execution_count": 12,
     "metadata": {},
     "output_type": "execute_result"
    }
   ],
   "source": [
    "# string \n",
    "type(application_granted_df[\"filing_date\"][0])\n",
    "\n",
    "# get the patents that have the filing date 2005\n",
    "application_granted_df[\"filing_date\"] = pd.to_datetime(application_granted_df[\"filing_date\"], format='%Y-%m-%d', errors='coerce')\n",
    "application_granted_df[\"filing_date\"].dt.year.value_counts()"
   ]
  },
  {
   "cell_type": "code",
   "execution_count": 43,
   "metadata": {},
   "outputs": [
    {
     "data": {
      "text/html": [
       "<div>\n",
       "<style scoped>\n",
       "    .dataframe tbody tr th:only-of-type {\n",
       "        vertical-align: middle;\n",
       "    }\n",
       "\n",
       "    .dataframe tbody tr th {\n",
       "        vertical-align: top;\n",
       "    }\n",
       "\n",
       "    .dataframe thead th {\n",
       "        text-align: right;\n",
       "    }\n",
       "</style>\n",
       "<table border=\"1\" class=\"dataframe\">\n",
       "  <thead>\n",
       "    <tr style=\"text-align: right;\">\n",
       "      <th></th>\n",
       "      <th>title</th>\n",
       "      <th>publication_number</th>\n",
       "      <th>publication_date</th>\n",
       "      <th>application_type</th>\n",
       "      <th>ipc_classifications</th>\n",
       "      <th>national_classifications</th>\n",
       "      <th>inventors</th>\n",
       "      <th>abstract</th>\n",
       "      <th>description</th>\n",
       "      <th>claims</th>\n",
       "      <th>...</th>\n",
       "      <th>abstract_tokens</th>\n",
       "      <th>claims_characters</th>\n",
       "      <th>claims_tokens</th>\n",
       "      <th>description_characters</th>\n",
       "      <th>description_tokens</th>\n",
       "      <th>title_characters</th>\n",
       "      <th>title_tokens</th>\n",
       "      <th>abstract_embeddings</th>\n",
       "      <th>section</th>\n",
       "      <th>national_classifications_clean</th>\n",
       "    </tr>\n",
       "  </thead>\n",
       "  <tbody>\n",
       "    <tr>\n",
       "      <th>0</th>\n",
       "      <td>Anthurium andreanum plant named 'Anthbondem'</td>\n",
       "      <td>20050005336</td>\n",
       "      <td>20050106</td>\n",
       "      <td>utility</td>\n",
       "      <td>[\\n07\\nG11C019/08\\nA01H005/00\\n]</td>\n",
       "      <td>[\\nUS\\nPLT365000\\n]</td>\n",
       "      <td>[{'first_name': 'Jan', 'last_name': 'Dijk'}]</td>\n",
       "      <td>\\nA new and distinct cultivar of Anthurium and...</td>\n",
       "      <td>\\n\\nLATIN NAME OF THE GENUS AND SPECIES OF THE...</td>\n",
       "      <td>1\\n. A new and distinct\\nAnthurium andreanum\\n...</td>\n",
       "      <td>...</td>\n",
       "      <td>129</td>\n",
       "      <td>105</td>\n",
       "      <td>28</td>\n",
       "      <td>9258</td>\n",
       "      <td>2306</td>\n",
       "      <td>44</td>\n",
       "      <td>13</td>\n",
       "      <td>[[-0.024430248886346817, 0.0164019837975502, 0...</td>\n",
       "      <td>G</td>\n",
       "      <td>PLT365000</td>\n",
       "    </tr>\n",
       "    <tr>\n",
       "      <th>1</th>\n",
       "      <td>Novelty jeans</td>\n",
       "      <td>20050000001</td>\n",
       "      <td>20050106</td>\n",
       "      <td>utility</td>\n",
       "      <td>[\\n07\\nA41D001/06\\n]</td>\n",
       "      <td>[\\nUS\\n002227000\\n]</td>\n",
       "      <td>[{'first_name': 'Tina', 'last_name': 'Goldkind'}]</td>\n",
       "      <td>\\nNovelty play jeans for children which includ...</td>\n",
       "      <td>\\n\\nBACKGROUND OF THE INVENTION \\n The inventi...</td>\n",
       "      <td>1\\n. A novelty jeans formed of suitable fabric...</td>\n",
       "      <td>...</td>\n",
       "      <td>104</td>\n",
       "      <td>6428</td>\n",
       "      <td>1398</td>\n",
       "      <td>23051</td>\n",
       "      <td>5122</td>\n",
       "      <td>13</td>\n",
       "      <td>4</td>\n",
       "      <td>[[-0.01965159736573696, -0.0008666732464917004...</td>\n",
       "      <td>A</td>\n",
       "      <td>002227000</td>\n",
       "    </tr>\n",
       "  </tbody>\n",
       "</table>\n",
       "<p>2 rows × 21 columns</p>\n",
       "</div>"
      ],
      "text/plain": [
       "                                          title publication_number  \\\n",
       "0  Anthurium andreanum plant named 'Anthbondem'        20050005336   \n",
       "1                                 Novelty jeans        20050000001   \n",
       "\n",
       "  publication_date application_type               ipc_classifications  \\\n",
       "0         20050106          utility  [\\n07\\nG11C019/08\\nA01H005/00\\n]   \n",
       "1         20050106          utility              [\\n07\\nA41D001/06\\n]   \n",
       "\n",
       "  national_classifications                                          inventors  \\\n",
       "0      [\\nUS\\nPLT365000\\n]       [{'first_name': 'Jan', 'last_name': 'Dijk'}]   \n",
       "1      [\\nUS\\n002227000\\n]  [{'first_name': 'Tina', 'last_name': 'Goldkind'}]   \n",
       "\n",
       "                                            abstract  \\\n",
       "0  \\nA new and distinct cultivar of Anthurium and...   \n",
       "1  \\nNovelty play jeans for children which includ...   \n",
       "\n",
       "                                         description  \\\n",
       "0  \\n\\nLATIN NAME OF THE GENUS AND SPECIES OF THE...   \n",
       "1  \\n\\nBACKGROUND OF THE INVENTION \\n The inventi...   \n",
       "\n",
       "                                              claims  ...  abstract_tokens  \\\n",
       "0  1\\n. A new and distinct\\nAnthurium andreanum\\n...  ...              129   \n",
       "1  1\\n. A novelty jeans formed of suitable fabric...  ...              104   \n",
       "\n",
       "   claims_characters  claims_tokens  description_characters  \\\n",
       "0                105             28                    9258   \n",
       "1               6428           1398                   23051   \n",
       "\n",
       "   description_tokens  title_characters  title_tokens  \\\n",
       "0                2306                44            13   \n",
       "1                5122                13             4   \n",
       "\n",
       "                                 abstract_embeddings section  \\\n",
       "0  [[-0.024430248886346817, 0.0164019837975502, 0...       G   \n",
       "1  [[-0.01965159736573696, -0.0008666732464917004...       A   \n",
       "\n",
       "  national_classifications_clean  \n",
       "0                      PLT365000  \n",
       "1                      002227000  \n",
       "\n",
       "[2 rows x 21 columns]"
      ]
     },
     "execution_count": 43,
     "metadata": {},
     "output_type": "execute_result"
    }
   ],
   "source": [
    "# this is a list of all granted applications\n",
    "# Thus, if the application is not in this list, it was not granted\n",
    "\n",
    "\n",
    "# merge the granted applications with the df\n",
    "\n",
    "df[\"national_classifications_clean\"] = df[\"national_classifications\"].apply(lambda x: x[0].split('\\n')[2])\n",
    "df.head(2)\n"
   ]
  },
  {
   "cell_type": "code",
   "execution_count": 25,
   "metadata": {},
   "outputs": [],
   "source": [
    "# merge the granted applications with the df\n",
    "# the columns are \n",
    "#      - patent_id (application_granted_df)\n",
    "#      - national_classifications_clean (df)\n",
    "\n",
    "# merge on patent_id\n",
    "df_merge = df.merge(application_granted_df, left_on='publication_number', right_on='patent_id')"
   ]
  },
  {
   "cell_type": "code",
   "execution_count": 26,
   "metadata": {},
   "outputs": [
    {
     "name": "stdout",
     "output_type": "stream",
     "text": [
      "(0, 27)\n",
      "(1000, 21)\n",
      "(4646399, 6)\n"
     ]
    }
   ],
   "source": [
    "# huh... the merge is empty\n",
    "# can you manually check on google patents if the patents are granted?\n",
    "# how can it be... ? \n",
    "\n",
    "# maybe you are not mergint properly... try to find in \"application_granted_df\"\n",
    "# the  Novelty jeans patent https://patents.google.com/patent/US20050000001\n",
    "\n",
    "print(df_merge.shape)\n",
    "print(df.shape)\n",
    "print(application_granted_df.shape)"
   ]
  },
  {
   "cell_type": "code",
   "execution_count": 16,
   "metadata": {},
   "outputs": [
    {
     "data": {
      "text/plain": [
       "0"
      ]
     },
     "execution_count": 16,
     "metadata": {},
     "output_type": "execute_result"
    }
   ],
   "source": [
    "# check if 20050000001 is in the application_granted_df, in the column patent_id\n",
    "# application_granted_df[\"patent_id\"] starts with \"2005\"\n",
    "application_granted_df[\"patent_id\"].str.startswith(\"2005\").sum()"
   ]
  },
  {
   "cell_type": "code",
   "execution_count": 17,
   "metadata": {},
   "outputs": [],
   "source": [
    "# get a list of the paten_ids that are repeated (granted patents)\n",
    "granted_patents = application_granted_df[application_granted_df['patent_id'].duplicated()]['patent_id'].tolist()"
   ]
  },
  {
   "cell_type": "code",
   "execution_count": 18,
   "metadata": {},
   "outputs": [
    {
     "data": {
      "text/plain": [
       "'\\n\\n\\n07\\nG11C019/08\\nA01H005/00\\n this is a classifciation of the kind of industry this product belongs to\\n[\\nUS\\nPLT365000\\n] This might be the actual number\\n\\nwhy are they different? \\n'"
      ]
     },
     "execution_count": 18,
     "metadata": {},
     "output_type": "execute_result"
    }
   ],
   "source": [
    "\"\"\"\n",
    "\n",
    "\\n07\\nG11C019/08\\nA01H005/00\\n this is a classifciation of the kind of industry this product belongs to\n",
    "[\\nUS\\nPLT365000\\n] This might be the actual number\n",
    "\n",
    "why are they different? \n",
    "\"\"\""
   ]
  },
  {
   "cell_type": "code",
   "execution_count": 27,
   "metadata": {},
   "outputs": [
    {
     "data": {
      "text/plain": [
       "'\\nexample:  Anthurium andreanum plant named ‘Anthbondem’ \\nkey variables: \\n\\npublication_number - this is the number that was used to publish the APLICATION! US 20050005336P1\\n\\nit was later published as USPP16356P3\\n\\n'"
      ]
     },
     "execution_count": 27,
     "metadata": {},
     "output_type": "execute_result"
    }
   ],
   "source": [
    "\"\"\"\n",
    "example:  Anthurium andreanum plant named ‘Anthbondem’ \n",
    "key variables: \n",
    "\n",
    "publication_number - this is the number that was used to publish the APLICATION! US 20050005336P1\n",
    "\n",
    "it was later published as USPP16356P3\n",
    "\n",
    "\"\"\""
   ]
  },
  {
   "cell_type": "code",
   "execution_count": null,
   "metadata": {},
   "outputs": [],
   "source": []
  }
 ],
 "metadata": {
  "kernelspec": {
   "display_name": "upsto",
   "language": "python",
   "name": "python3"
  },
  "language_info": {
   "codemirror_mode": {
    "name": "ipython",
    "version": 3
   },
   "file_extension": ".py",
   "mimetype": "text/x-python",
   "name": "python",
   "nbconvert_exporter": "python",
   "pygments_lexer": "ipython3",
   "version": "3.11.7"
  }
 },
 "nbformat": 4,
 "nbformat_minor": 2
}
